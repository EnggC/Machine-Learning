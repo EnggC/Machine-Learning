{
 "cells": [
  {
   "cell_type": "code",
   "execution_count": 1,
   "metadata": {},
   "outputs": [
    {
     "name": "stdout",
     "output_type": "stream",
     "text": [
      "Collecting docplexNote: you may need to restart the kernel to use updated packages.\n"
     ]
    },
    {
     "name": "stderr",
     "output_type": "stream",
     "text": [
      "\n",
      "[notice] A new release of pip is available: 24.2 -> 24.3.1\n",
      "[notice] To update, run: python.exe -m pip install --upgrade pip\n"
     ]
    },
    {
     "name": "stdout",
     "output_type": "stream",
     "text": [
      "\n",
      "  Downloading docplex-2.28.240.tar.gz (643 kB)\n",
      "     ---------------------------------------- 0.0/643.4 kB ? eta -:--:--\n",
      "     ------------------------------ ------- 524.3/643.4 kB 3.4 MB/s eta 0:00:01\n",
      "     -------------------------------------- 643.4/643.4 kB 1.9 MB/s eta 0:00:00\n",
      "  Installing build dependencies: started\n",
      "  Installing build dependencies: finished with status 'done'\n",
      "  Getting requirements to build wheel: started\n",
      "  Getting requirements to build wheel: finished with status 'done'\n",
      "  Installing backend dependencies: started\n",
      "  Installing backend dependencies: finished with status 'done'\n",
      "  Preparing metadata (pyproject.toml): started\n",
      "  Preparing metadata (pyproject.toml): finished with status 'done'\n",
      "Requirement already satisfied: six in c:\\users\\cian\\appdata\\roaming\\python\\python311\\site-packages (from docplex) (1.16.0)\n",
      "Building wheels for collected packages: docplex\n",
      "  Building wheel for docplex (pyproject.toml): started\n",
      "  Building wheel for docplex (pyproject.toml): finished with status 'done'\n",
      "  Created wheel for docplex: filename=docplex-2.28.240-py3-none-any.whl size=682883 sha256=7006d1507f7d2fcbf011bc5012c458371bfc6c5fb07d6512611c1184e0242a77\n",
      "  Stored in directory: c:\\users\\cian\\appdata\\local\\pip\\cache\\wheels\\ca\\09\\17\\0fd4f150422500b3f4eb8be7413d5b12b3b06c516001f5c51b\n",
      "Successfully built docplex\n",
      "Installing collected packages: docplex\n",
      "Successfully installed docplex-2.28.240\n"
     ]
    }
   ],
   "source": [
    "pip install docplex"
   ]
  },
  {
   "cell_type": "code",
   "execution_count": 11,
   "metadata": {},
   "outputs": [
    {
     "name": "stdout",
     "output_type": "stream",
     "text": [
      "Collecting cplex\n",
      "  Downloading cplex-22.1.1.2-cp311-cp311-win_amd64.whl.metadata (56 kB)\n",
      "Downloading cplex-22.1.1.2-cp311-cp311-win_amd64.whl (26.4 MB)\n",
      "   ---------------------------------------- 0.0/26.4 MB ? eta -:--:--\n",
      "   - -------------------------------------- 0.8/26.4 MB 4.2 MB/s eta 0:00:07\n",
      "   -- ------------------------------------- 1.8/26.4 MB 4.8 MB/s eta 0:00:06\n",
      "   --- ------------------------------------ 2.6/26.4 MB 4.3 MB/s eta 0:00:06\n",
      "   ----- ---------------------------------- 3.4/26.4 MB 4.2 MB/s eta 0:00:06\n",
      "   ------ --------------------------------- 4.2/26.4 MB 4.1 MB/s eta 0:00:06\n",
      "   ------- -------------------------------- 5.0/26.4 MB 4.0 MB/s eta 0:00:06\n",
      "   -------- ------------------------------- 5.8/26.4 MB 4.0 MB/s eta 0:00:06\n",
      "   --------- ------------------------------ 6.6/26.4 MB 3.9 MB/s eta 0:00:06\n",
      "   ----------- ---------------------------- 7.3/26.4 MB 3.9 MB/s eta 0:00:05\n",
      "   ----------- ---------------------------- 7.9/26.4 MB 3.8 MB/s eta 0:00:05\n",
      "   ------------- -------------------------- 8.7/26.4 MB 3.7 MB/s eta 0:00:05\n",
      "   -------------- ------------------------- 9.4/26.4 MB 3.7 MB/s eta 0:00:05\n",
      "   --------------- ------------------------ 10.2/26.4 MB 3.7 MB/s eta 0:00:05\n",
      "   ---------------- ----------------------- 11.0/26.4 MB 3.7 MB/s eta 0:00:05\n",
      "   ----------------- ---------------------- 11.8/26.4 MB 3.7 MB/s eta 0:00:04\n",
      "   ------------------- -------------------- 12.6/26.4 MB 3.7 MB/s eta 0:00:04\n",
      "   -------------------- ------------------- 13.4/26.4 MB 3.8 MB/s eta 0:00:04\n",
      "   --------------------- ------------------ 14.2/26.4 MB 3.8 MB/s eta 0:00:04\n",
      "   ---------------------- ----------------- 14.9/26.4 MB 3.8 MB/s eta 0:00:04\n",
      "   ----------------------- ---------------- 15.7/26.4 MB 3.8 MB/s eta 0:00:03\n",
      "   ------------------------- -------------- 16.5/26.4 MB 3.8 MB/s eta 0:00:03\n",
      "   -------------------------- ------------- 17.3/26.4 MB 3.8 MB/s eta 0:00:03\n",
      "   --------------------------- ------------ 17.8/26.4 MB 3.8 MB/s eta 0:00:03\n",
      "   --------------------------- ------------ 17.8/26.4 MB 3.8 MB/s eta 0:00:03\n",
      "   --------------------------- ------------ 18.1/26.4 MB 3.4 MB/s eta 0:00:03\n",
      "   ---------------------------- ----------- 19.1/26.4 MB 3.5 MB/s eta 0:00:03\n",
      "   ----------------------------- ---------- 19.7/26.4 MB 3.5 MB/s eta 0:00:02\n",
      "   ------------------------------- -------- 20.7/26.4 MB 3.5 MB/s eta 0:00:02\n",
      "   -------------------------------- ------- 21.8/26.4 MB 3.6 MB/s eta 0:00:02\n",
      "   ---------------------------------- ----- 22.5/26.4 MB 3.6 MB/s eta 0:00:02\n",
      "   ----------------------------------- ---- 23.3/26.4 MB 3.6 MB/s eta 0:00:01\n",
      "   ------------------------------------ --- 24.1/26.4 MB 3.6 MB/s eta 0:00:01\n",
      "   ------------------------------------- -- 24.9/26.4 MB 3.6 MB/s eta 0:00:01\n",
      "   -------------------------------------- - 25.7/26.4 MB 3.6 MB/s eta 0:00:01\n",
      "   ---------------------------------------  26.2/26.4 MB 3.6 MB/s eta 0:00:01\n",
      "   ---------------------------------------  26.2/26.4 MB 3.6 MB/s eta 0:00:01\n",
      "   ---------------------------------------- 26.4/26.4 MB 3.4 MB/s eta 0:00:00\n",
      "Installing collected packages: cplex\n",
      "Successfully installed cplex-22.1.1.2\n",
      "Note: you may need to restart the kernel to use updated packages.\n"
     ]
    },
    {
     "name": "stderr",
     "output_type": "stream",
     "text": [
      "\n",
      "[notice] A new release of pip is available: 24.2 -> 24.3.1\n",
      "[notice] To update, run: python.exe -m pip install --upgrade pip\n"
     ]
    }
   ],
   "source": [
    "pip install cplex"
   ]
  },
  {
   "cell_type": "markdown",
   "metadata": {},
   "source": [
    "Import Model Artifacts"
   ]
  },
  {
   "cell_type": "code",
   "execution_count": 1,
   "metadata": {},
   "outputs": [],
   "source": [
    "from docplex.mp.model import Model"
   ]
  },
  {
   "cell_type": "code",
   "execution_count": 2,
   "metadata": {},
   "outputs": [],
   "source": [
    "m = Model(name='unit allocation')"
   ]
  },
  {
   "cell_type": "markdown",
   "metadata": {},
   "source": [
    "Variables"
   ]
  },
  {
   "cell_type": "code",
   "execution_count": 3,
   "metadata": {},
   "outputs": [],
   "source": [
    "foldyphone = m.continuous_var(name='foldyphone')\n",
    "tinyphone = m.continuous_var(name='tinyphone')"
   ]
  },
  {
   "cell_type": "code",
   "execution_count": 4,
   "metadata": {},
   "outputs": [],
   "source": [
    "foldyphonetime = 1.5\n",
    "tinyphonetime = 2"
   ]
  },
  {
   "cell_type": "markdown",
   "metadata": {},
   "source": [
    "Constraints"
   ]
  },
  {
   "cell_type": "code",
   "execution_count": 5,
   "metadata": {},
   "outputs": [],
   "source": [
    "foldyphoneprod = m.add_constraint(foldyphone >= 500)\n",
    "tinyphoneprod = m.add_constraint(tinyphone >= 200)\n",
    "totalprod = m.add_constraint(m.sum([tinyphone*tinyphonetime, foldyphone*foldyphonetime]) <= 2999.5)"
   ]
  },
  {
   "cell_type": "markdown",
   "metadata": {},
   "source": [
    "Goals"
   ]
  },
  {
   "cell_type": "code",
   "execution_count": 6,
   "metadata": {},
   "outputs": [],
   "source": [
    "m.maximize(foldyphone*900 + tinyphone*1100)"
   ]
  },
  {
   "cell_type": "markdown",
   "metadata": {},
   "source": [
    "Solution"
   ]
  },
  {
   "cell_type": "code",
   "execution_count": 7,
   "metadata": {},
   "outputs": [],
   "source": [
    "sol = m.solve()"
   ]
  },
  {
   "cell_type": "code",
   "execution_count": 8,
   "metadata": {},
   "outputs": [
    {
     "name": "stdout",
     "output_type": "stream",
     "text": [
      "solution for: unit allocation\n",
      "objective: 1779700.000\n",
      "status: OPTIMAL_SOLUTION(2)\n",
      "foldyphone = 1733.000\n",
      "tinyphone = 200.000\n"
     ]
    }
   ],
   "source": [
    "sol.display()\n"
   ]
  },
  {
   "cell_type": "code",
   "execution_count": 9,
   "metadata": {},
   "outputs": [
    {
     "data": {
      "text/plain": [
       "200.0"
      ]
     },
     "execution_count": 9,
     "metadata": {},
     "output_type": "execute_result"
    }
   ],
   "source": [
    "tinyphone.solution_value"
   ]
  },
  {
   "cell_type": "code",
   "execution_count": 10,
   "metadata": {},
   "outputs": [
    {
     "data": {
      "text/plain": [
       "1733.0"
      ]
     },
     "execution_count": 10,
     "metadata": {},
     "output_type": "execute_result"
    }
   ],
   "source": [
    "foldyphone.solution_value"
   ]
  }
 ],
 "metadata": {
  "kernelspec": {
   "display_name": "Python 3",
   "language": "python",
   "name": "python3"
  },
  "language_info": {
   "codemirror_mode": {
    "name": "ipython",
    "version": 3
   },
   "file_extension": ".py",
   "mimetype": "text/x-python",
   "name": "python",
   "nbconvert_exporter": "python",
   "pygments_lexer": "ipython3",
   "version": "3.11.4"
  }
 },
 "nbformat": 4,
 "nbformat_minor": 2
}
